{
 "cells": [
  {
   "cell_type": "code",
   "execution_count": 19,
   "metadata": {},
   "outputs": [],
   "source": [
    "import pandas as pd\n",
    "import numpy as np\n",
    "import seaborn as sns\n",
    "import matplotlib.pyplot as plt\n",
    "from sklearn.ensemble import RandomForestClassifier\n",
    "from sklearn.linear_model import LogisticRegression\n",
    "from sklearn.model_selection import train_test_split\n",
    "from sklearn.pipeline import make_pipeline\n",
    "from sklearn.preprocessing import StandardScaler, RobustScaler, OneHotEncoder, LabelEncoder\n",
    "from sklearn.compose import make_column_transformer, ColumnTransformer\n",
    "from sklearn.metrics import classification_report, roc_auc_score, f1_score, precision_score, recall_score\n",
    "import xgboost as xgb\n",
    "from hyperopt import fmin, tpe, hp, STATUS_OK, Trials\n",
    "from hyperopt.pyll import scope\n",
    "import pickle\n",
    "import mlflow\n",
    "import warnings\n",
    "import boto3\n",
    "warnings.filterwarnings('ignore')"
   ]
  },
  {
   "cell_type": "code",
   "execution_count": 2,
   "metadata": {},
   "outputs": [
    {
     "name": "stdout",
     "output_type": "stream",
     "text": [
      "tracking URI: 'http://127.0.0.1:5000'\n"
     ]
    }
   ],
   "source": [
    "mlflow.set_tracking_uri(\"http://127.0.0.1:5000\")\n",
    "mlflow.set_experiment(\"loan-prediction-experiment\")\n",
    "print(f\"tracking URI: '{mlflow.get_tracking_uri()}'\")"
   ]
  },
  {
   "cell_type": "code",
   "execution_count": 3,
   "metadata": {},
   "outputs": [],
   "source": [
    "df = pd.read_parquet('../data/loans_full_schema_clean.parquet')"
   ]
  },
  {
   "cell_type": "code",
   "execution_count": 4,
   "metadata": {},
   "outputs": [
    {
     "data": {
      "text/html": [
       "<div>\n",
       "<style scoped>\n",
       "    .dataframe tbody tr th:only-of-type {\n",
       "        vertical-align: middle;\n",
       "    }\n",
       "\n",
       "    .dataframe tbody tr th {\n",
       "        vertical-align: top;\n",
       "    }\n",
       "\n",
       "    .dataframe thead th {\n",
       "        text-align: right;\n",
       "    }\n",
       "</style>\n",
       "<table border=\"1\" class=\"dataframe\">\n",
       "  <thead>\n",
       "    <tr style=\"text-align: right;\">\n",
       "      <th></th>\n",
       "      <th>emp_title</th>\n",
       "      <th>emp_length</th>\n",
       "      <th>state</th>\n",
       "      <th>homeownership</th>\n",
       "      <th>annual_income</th>\n",
       "      <th>verified_income</th>\n",
       "      <th>debt_to_income</th>\n",
       "      <th>delinq_2y</th>\n",
       "      <th>months_since_last_delinq</th>\n",
       "      <th>earliest_credit_line</th>\n",
       "      <th>...</th>\n",
       "      <th>sub_grade</th>\n",
       "      <th>issue_month</th>\n",
       "      <th>loan_status</th>\n",
       "      <th>initial_listing_status</th>\n",
       "      <th>disbursement_method</th>\n",
       "      <th>balance</th>\n",
       "      <th>paid_total</th>\n",
       "      <th>paid_principal</th>\n",
       "      <th>paid_interest</th>\n",
       "      <th>paid_late_fees</th>\n",
       "    </tr>\n",
       "  </thead>\n",
       "  <tbody>\n",
       "    <tr>\n",
       "      <th>1</th>\n",
       "      <td>global config engineer</td>\n",
       "      <td>3.0</td>\n",
       "      <td>NJ</td>\n",
       "      <td>MORTGAGE</td>\n",
       "      <td>90000.0</td>\n",
       "      <td>Verified</td>\n",
       "      <td>18.01</td>\n",
       "      <td>0</td>\n",
       "      <td>38.0</td>\n",
       "      <td>2001</td>\n",
       "      <td>...</td>\n",
       "      <td>C3</td>\n",
       "      <td>Mar-2018</td>\n",
       "      <td>0</td>\n",
       "      <td>whole</td>\n",
       "      <td>Cash</td>\n",
       "      <td>27015.86</td>\n",
       "      <td>1999.33</td>\n",
       "      <td>984.14</td>\n",
       "      <td>1015.19</td>\n",
       "      <td>0.0</td>\n",
       "    </tr>\n",
       "    <tr>\n",
       "      <th>2</th>\n",
       "      <td>warehouse office clerk</td>\n",
       "      <td>10.0</td>\n",
       "      <td>HI</td>\n",
       "      <td>RENT</td>\n",
       "      <td>40000.0</td>\n",
       "      <td>Not Verified</td>\n",
       "      <td>5.04</td>\n",
       "      <td>0</td>\n",
       "      <td>34.0</td>\n",
       "      <td>1996</td>\n",
       "      <td>...</td>\n",
       "      <td>C1</td>\n",
       "      <td>Feb-2018</td>\n",
       "      <td>0</td>\n",
       "      <td>whole</td>\n",
       "      <td>Cash</td>\n",
       "      <td>4651.37</td>\n",
       "      <td>499.12</td>\n",
       "      <td>348.63</td>\n",
       "      <td>150.49</td>\n",
       "      <td>0.0</td>\n",
       "    </tr>\n",
       "    <tr>\n",
       "      <th>3</th>\n",
       "      <td>assembly</td>\n",
       "      <td>3.0</td>\n",
       "      <td>WI</td>\n",
       "      <td>RENT</td>\n",
       "      <td>40000.0</td>\n",
       "      <td>Source Verified</td>\n",
       "      <td>21.15</td>\n",
       "      <td>0</td>\n",
       "      <td>28.0</td>\n",
       "      <td>2006</td>\n",
       "      <td>...</td>\n",
       "      <td>D1</td>\n",
       "      <td>Feb-2018</td>\n",
       "      <td>0</td>\n",
       "      <td>fractional</td>\n",
       "      <td>Cash</td>\n",
       "      <td>1824.63</td>\n",
       "      <td>281.80</td>\n",
       "      <td>175.37</td>\n",
       "      <td>106.43</td>\n",
       "      <td>0.0</td>\n",
       "    </tr>\n",
       "    <tr>\n",
       "      <th>4</th>\n",
       "      <td>customer service</td>\n",
       "      <td>1.0</td>\n",
       "      <td>PA</td>\n",
       "      <td>RENT</td>\n",
       "      <td>30000.0</td>\n",
       "      <td>Not Verified</td>\n",
       "      <td>10.16</td>\n",
       "      <td>0</td>\n",
       "      <td>34.0</td>\n",
       "      <td>2007</td>\n",
       "      <td>...</td>\n",
       "      <td>A3</td>\n",
       "      <td>Jan-2018</td>\n",
       "      <td>0</td>\n",
       "      <td>whole</td>\n",
       "      <td>Cash</td>\n",
       "      <td>18853.26</td>\n",
       "      <td>3312.89</td>\n",
       "      <td>2746.74</td>\n",
       "      <td>566.15</td>\n",
       "      <td>0.0</td>\n",
       "    </tr>\n",
       "    <tr>\n",
       "      <th>5</th>\n",
       "      <td>security supervisor</td>\n",
       "      <td>10.0</td>\n",
       "      <td>CA</td>\n",
       "      <td>RENT</td>\n",
       "      <td>35000.0</td>\n",
       "      <td>Verified</td>\n",
       "      <td>57.96</td>\n",
       "      <td>0</td>\n",
       "      <td>34.0</td>\n",
       "      <td>2008</td>\n",
       "      <td>...</td>\n",
       "      <td>C3</td>\n",
       "      <td>Mar-2018</td>\n",
       "      <td>0</td>\n",
       "      <td>whole</td>\n",
       "      <td>Cash</td>\n",
       "      <td>21430.15</td>\n",
       "      <td>2324.65</td>\n",
       "      <td>1569.85</td>\n",
       "      <td>754.80</td>\n",
       "      <td>0.0</td>\n",
       "    </tr>\n",
       "  </tbody>\n",
       "</table>\n",
       "<p>5 rows × 52 columns</p>\n",
       "</div>"
      ],
      "text/plain": [
       "                 emp_title  emp_length state homeownership  annual_income  \\\n",
       "1  global config engineer          3.0    NJ      MORTGAGE        90000.0   \n",
       "2   warehouse office clerk        10.0    HI          RENT        40000.0   \n",
       "3                 assembly         3.0    WI          RENT        40000.0   \n",
       "4         customer service         1.0    PA          RENT        30000.0   \n",
       "5     security supervisor         10.0    CA          RENT        35000.0   \n",
       "\n",
       "   verified_income  debt_to_income  delinq_2y  months_since_last_delinq  \\\n",
       "1         Verified           18.01          0                      38.0   \n",
       "2     Not Verified            5.04          0                      34.0   \n",
       "3  Source Verified           21.15          0                      28.0   \n",
       "4     Not Verified           10.16          0                      34.0   \n",
       "5         Verified           57.96          0                      34.0   \n",
       "\n",
       "   earliest_credit_line  ...  sub_grade  issue_month  loan_status  \\\n",
       "1                  2001  ...         C3     Mar-2018            0   \n",
       "2                  1996  ...         C1     Feb-2018            0   \n",
       "3                  2006  ...         D1     Feb-2018            0   \n",
       "4                  2007  ...         A3     Jan-2018            0   \n",
       "5                  2008  ...         C3     Mar-2018            0   \n",
       "\n",
       "   initial_listing_status  disbursement_method   balance  paid_total  \\\n",
       "1                   whole                 Cash  27015.86     1999.33   \n",
       "2                   whole                 Cash   4651.37      499.12   \n",
       "3              fractional                 Cash   1824.63      281.80   \n",
       "4                   whole                 Cash  18853.26     3312.89   \n",
       "5                   whole                 Cash  21430.15     2324.65   \n",
       "\n",
       "   paid_principal  paid_interest  paid_late_fees  \n",
       "1          984.14        1015.19             0.0  \n",
       "2          348.63         150.49             0.0  \n",
       "3          175.37         106.43             0.0  \n",
       "4         2746.74         566.15             0.0  \n",
       "5         1569.85         754.80             0.0  \n",
       "\n",
       "[5 rows x 52 columns]"
      ]
     },
     "execution_count": 4,
     "metadata": {},
     "output_type": "execute_result"
    }
   ],
   "source": [
    "df.head()"
   ]
  },
  {
   "cell_type": "code",
   "execution_count": 5,
   "metadata": {},
   "outputs": [
    {
     "data": {
      "text/plain": [
       "loan_status\n",
       "0    9993\n",
       "1       7\n",
       "Name: count, dtype: int64"
      ]
     },
     "execution_count": 5,
     "metadata": {},
     "output_type": "execute_result"
    }
   ],
   "source": [
    "df['loan_status'].value_counts()"
   ]
  },
  {
   "cell_type": "code",
   "execution_count": 6,
   "metadata": {},
   "outputs": [
    {
     "name": "stdout",
     "output_type": "stream",
     "text": [
      "Scale positive weight: 1427.5714285714287\n",
      "Weight for the majority class (Not Charged Off: 0): 0.5003502451716202\n",
      "Weight for the minority class (Charged Off: 1): 714.2857142857143\n"
     ]
    }
   ],
   "source": [
    "count_majority_class = df['loan_status'].value_counts()[0]\n",
    "\n",
    "count_minority_class = df['loan_status'].value_counts()[1]\n",
    "\n",
    "sum_negative_instances = count_majority_class\n",
    "sum_positive_instances = count_minority_class\n",
    "\n",
    "scale_pos_weight = sum_negative_instances / sum_positive_instances\n",
    "\n",
    "print(\"Scale positive weight:\", scale_pos_weight)\n",
    "\n",
    "total_samples = count_majority_class + count_minority_class\n",
    "\n",
    "n_classes = 2\n",
    "\n",
    "weight_majority_class = total_samples / (n_classes * count_majority_class)\n",
    "weight_minority_class = total_samples / (n_classes * count_minority_class)\n",
    "\n",
    "class_weights = {0: weight_majority_class, 1: weight_minority_class}\n",
    "\n",
    "print(\"Weight for the majority class (Not Charged Off: 0):\", weight_majority_class)\n",
    "print(\"Weight for the minority class (Charged Off: 1):\", weight_minority_class)\n"
   ]
  },
  {
   "cell_type": "code",
   "execution_count": 7,
   "metadata": {},
   "outputs": [],
   "source": [
    "X = df.drop(columns=['loan_status'])\n",
    "y = df['loan_status']\n",
    "\n",
    "def train_val_test_split(X, y, train_size, val_size, test_size, random_state):\n",
    "    assert train_size + val_size <= 1, \"train_size + val_size should be less than or equal to 1.\"\n",
    "\n",
    "    X_train_val, X_test, y_train_val, y_test = train_test_split(X, y, test_size = test_size, random_state=random_state, stratify=y)\n",
    "    relative_train_size = train_size / (val_size + train_size)\n",
    "    X_train, X_val, y_train, y_val = train_test_split(X_train_val, y_train_val,\n",
    "                                                      train_size = relative_train_size, test_size = 1-relative_train_size, random_state=random_state, stratify=y_train_val)\n",
    "    return X_train, X_val, X_test, y_train, y_val, y_test;\n",
    "\n",
    "X_train, X_val, X_test, y_train, y_val, y_test = train_val_test_split(X, y, train_size=0.8, val_size=0.1, test_size=0.1, random_state=42)"
   ]
  },
  {
   "cell_type": "code",
   "execution_count": 8,
   "metadata": {},
   "outputs": [
    {
     "name": "stdout",
     "output_type": "stream",
     "text": [
      "(8000, 51) (1000, 51) (1000, 51) (8000,) (1000,) (1000,)\n"
     ]
    }
   ],
   "source": [
    "print(X_train.shape, X_val.shape, X_test.shape, y_train.shape, y_val.shape, y_test.shape)"
   ]
  },
  {
   "cell_type": "code",
   "execution_count": 9,
   "metadata": {},
   "outputs": [],
   "source": [
    "categorical_features = X.select_dtypes(include=['object']).columns.tolist()\n",
    "numerical_features = X.select_dtypes(include=['int64', 'float64']).columns.tolist()"
   ]
  },
  {
   "cell_type": "code",
   "execution_count": 10,
   "metadata": {},
   "outputs": [],
   "source": [
    "numerical_transformer = StandardScaler(with_mean=False)  # Sparse input needs with_mean=False\n",
    "categorical_transformer = OneHotEncoder(handle_unknown='ignore')\n",
    "\n",
    "preprocessor = make_column_transformer(\n",
    "    (numerical_transformer, numerical_features),\n",
    "    (categorical_transformer, categorical_features)\n",
    ")"
   ]
  },
  {
   "cell_type": "code",
   "execution_count": 11,
   "metadata": {},
   "outputs": [
    {
     "data": {
      "text/html": [
       "<style>#sk-container-id-1 {color: black;}#sk-container-id-1 pre{padding: 0;}#sk-container-id-1 div.sk-toggleable {background-color: white;}#sk-container-id-1 label.sk-toggleable__label {cursor: pointer;display: block;width: 100%;margin-bottom: 0;padding: 0.3em;box-sizing: border-box;text-align: center;}#sk-container-id-1 label.sk-toggleable__label-arrow:before {content: \"▸\";float: left;margin-right: 0.25em;color: #696969;}#sk-container-id-1 label.sk-toggleable__label-arrow:hover:before {color: black;}#sk-container-id-1 div.sk-estimator:hover label.sk-toggleable__label-arrow:before {color: black;}#sk-container-id-1 div.sk-toggleable__content {max-height: 0;max-width: 0;overflow: hidden;text-align: left;background-color: #f0f8ff;}#sk-container-id-1 div.sk-toggleable__content pre {margin: 0.2em;color: black;border-radius: 0.25em;background-color: #f0f8ff;}#sk-container-id-1 input.sk-toggleable__control:checked~div.sk-toggleable__content {max-height: 200px;max-width: 100%;overflow: auto;}#sk-container-id-1 input.sk-toggleable__control:checked~label.sk-toggleable__label-arrow:before {content: \"▾\";}#sk-container-id-1 div.sk-estimator input.sk-toggleable__control:checked~label.sk-toggleable__label {background-color: #d4ebff;}#sk-container-id-1 div.sk-label input.sk-toggleable__control:checked~label.sk-toggleable__label {background-color: #d4ebff;}#sk-container-id-1 input.sk-hidden--visually {border: 0;clip: rect(1px 1px 1px 1px);clip: rect(1px, 1px, 1px, 1px);height: 1px;margin: -1px;overflow: hidden;padding: 0;position: absolute;width: 1px;}#sk-container-id-1 div.sk-estimator {font-family: monospace;background-color: #f0f8ff;border: 1px dotted black;border-radius: 0.25em;box-sizing: border-box;margin-bottom: 0.5em;}#sk-container-id-1 div.sk-estimator:hover {background-color: #d4ebff;}#sk-container-id-1 div.sk-parallel-item::after {content: \"\";width: 100%;border-bottom: 1px solid gray;flex-grow: 1;}#sk-container-id-1 div.sk-label:hover label.sk-toggleable__label {background-color: #d4ebff;}#sk-container-id-1 div.sk-serial::before {content: \"\";position: absolute;border-left: 1px solid gray;box-sizing: border-box;top: 0;bottom: 0;left: 50%;z-index: 0;}#sk-container-id-1 div.sk-serial {display: flex;flex-direction: column;align-items: center;background-color: white;padding-right: 0.2em;padding-left: 0.2em;position: relative;}#sk-container-id-1 div.sk-item {position: relative;z-index: 1;}#sk-container-id-1 div.sk-parallel {display: flex;align-items: stretch;justify-content: center;background-color: white;position: relative;}#sk-container-id-1 div.sk-item::before, #sk-container-id-1 div.sk-parallel-item::before {content: \"\";position: absolute;border-left: 1px solid gray;box-sizing: border-box;top: 0;bottom: 0;left: 50%;z-index: -1;}#sk-container-id-1 div.sk-parallel-item {display: flex;flex-direction: column;z-index: 1;position: relative;background-color: white;}#sk-container-id-1 div.sk-parallel-item:first-child::after {align-self: flex-end;width: 50%;}#sk-container-id-1 div.sk-parallel-item:last-child::after {align-self: flex-start;width: 50%;}#sk-container-id-1 div.sk-parallel-item:only-child::after {width: 0;}#sk-container-id-1 div.sk-dashed-wrapped {border: 1px dashed gray;margin: 0 0.4em 0.5em 0.4em;box-sizing: border-box;padding-bottom: 0.4em;background-color: white;}#sk-container-id-1 div.sk-label label {font-family: monospace;font-weight: bold;display: inline-block;line-height: 1.2em;}#sk-container-id-1 div.sk-label-container {text-align: center;}#sk-container-id-1 div.sk-container {/* jupyter's `normalize.less` sets `[hidden] { display: none; }` but bootstrap.min.css set `[hidden] { display: none !important; }` so we also need the `!important` here to be able to override the default hidden behavior on the sphinx rendered scikit-learn.org. See: https://github.com/scikit-learn/scikit-learn/issues/21755 */display: inline-block !important;position: relative;}#sk-container-id-1 div.sk-text-repr-fallback {display: none;}</style><div id=\"sk-container-id-1\" class=\"sk-top-container\"><div class=\"sk-text-repr-fallback\"><pre>Pipeline(steps=[(&#x27;columntransformer&#x27;,\n",
       "                 ColumnTransformer(transformers=[(&#x27;standardscaler&#x27;,\n",
       "                                                  StandardScaler(with_mean=False),\n",
       "                                                  [&#x27;emp_length&#x27;,\n",
       "                                                   &#x27;annual_income&#x27;,\n",
       "                                                   &#x27;debt_to_income&#x27;,\n",
       "                                                   &#x27;delinq_2y&#x27;,\n",
       "                                                   &#x27;months_since_last_delinq&#x27;,\n",
       "                                                   &#x27;earliest_credit_line&#x27;,\n",
       "                                                   &#x27;inquiries_last_12m&#x27;,\n",
       "                                                   &#x27;total_credit_lines&#x27;,\n",
       "                                                   &#x27;open_credit_lines&#x27;,\n",
       "                                                   &#x27;total_credit_limit&#x27;,\n",
       "                                                   &#x27;total_credit_utilized&#x27;,\n",
       "                                                   &#x27;num_collection...\n",
       "                                                   &#x27;tax_liens&#x27;, ...]),\n",
       "                                                 (&#x27;onehotencoder&#x27;,\n",
       "                                                  OneHotEncoder(handle_unknown=&#x27;ignore&#x27;),\n",
       "                                                  [&#x27;emp_title&#x27;, &#x27;state&#x27;,\n",
       "                                                   &#x27;homeownership&#x27;,\n",
       "                                                   &#x27;verified_income&#x27;,\n",
       "                                                   &#x27;loan_purpose&#x27;,\n",
       "                                                   &#x27;application_type&#x27;, &#x27;grade&#x27;,\n",
       "                                                   &#x27;sub_grade&#x27;, &#x27;issue_month&#x27;,\n",
       "                                                   &#x27;initial_listing_status&#x27;,\n",
       "                                                   &#x27;disbursement_method&#x27;])])),\n",
       "                (&#x27;logisticregression&#x27;,\n",
       "                 LogisticRegression(class_weight={0: 0.5003502451716202,\n",
       "                                                  1: 714.2857142857143},\n",
       "                                    random_state=42))])</pre><b>In a Jupyter environment, please rerun this cell to show the HTML representation or trust the notebook. <br />On GitHub, the HTML representation is unable to render, please try loading this page with nbviewer.org.</b></div><div class=\"sk-container\" hidden><div class=\"sk-item sk-dashed-wrapped\"><div class=\"sk-label-container\"><div class=\"sk-label sk-toggleable\"><input class=\"sk-toggleable__control sk-hidden--visually\" id=\"sk-estimator-id-1\" type=\"checkbox\" ><label for=\"sk-estimator-id-1\" class=\"sk-toggleable__label sk-toggleable__label-arrow\">Pipeline</label><div class=\"sk-toggleable__content\"><pre>Pipeline(steps=[(&#x27;columntransformer&#x27;,\n",
       "                 ColumnTransformer(transformers=[(&#x27;standardscaler&#x27;,\n",
       "                                                  StandardScaler(with_mean=False),\n",
       "                                                  [&#x27;emp_length&#x27;,\n",
       "                                                   &#x27;annual_income&#x27;,\n",
       "                                                   &#x27;debt_to_income&#x27;,\n",
       "                                                   &#x27;delinq_2y&#x27;,\n",
       "                                                   &#x27;months_since_last_delinq&#x27;,\n",
       "                                                   &#x27;earliest_credit_line&#x27;,\n",
       "                                                   &#x27;inquiries_last_12m&#x27;,\n",
       "                                                   &#x27;total_credit_lines&#x27;,\n",
       "                                                   &#x27;open_credit_lines&#x27;,\n",
       "                                                   &#x27;total_credit_limit&#x27;,\n",
       "                                                   &#x27;total_credit_utilized&#x27;,\n",
       "                                                   &#x27;num_collection...\n",
       "                                                   &#x27;tax_liens&#x27;, ...]),\n",
       "                                                 (&#x27;onehotencoder&#x27;,\n",
       "                                                  OneHotEncoder(handle_unknown=&#x27;ignore&#x27;),\n",
       "                                                  [&#x27;emp_title&#x27;, &#x27;state&#x27;,\n",
       "                                                   &#x27;homeownership&#x27;,\n",
       "                                                   &#x27;verified_income&#x27;,\n",
       "                                                   &#x27;loan_purpose&#x27;,\n",
       "                                                   &#x27;application_type&#x27;, &#x27;grade&#x27;,\n",
       "                                                   &#x27;sub_grade&#x27;, &#x27;issue_month&#x27;,\n",
       "                                                   &#x27;initial_listing_status&#x27;,\n",
       "                                                   &#x27;disbursement_method&#x27;])])),\n",
       "                (&#x27;logisticregression&#x27;,\n",
       "                 LogisticRegression(class_weight={0: 0.5003502451716202,\n",
       "                                                  1: 714.2857142857143},\n",
       "                                    random_state=42))])</pre></div></div></div><div class=\"sk-serial\"><div class=\"sk-item sk-dashed-wrapped\"><div class=\"sk-label-container\"><div class=\"sk-label sk-toggleable\"><input class=\"sk-toggleable__control sk-hidden--visually\" id=\"sk-estimator-id-2\" type=\"checkbox\" ><label for=\"sk-estimator-id-2\" class=\"sk-toggleable__label sk-toggleable__label-arrow\">columntransformer: ColumnTransformer</label><div class=\"sk-toggleable__content\"><pre>ColumnTransformer(transformers=[(&#x27;standardscaler&#x27;,\n",
       "                                 StandardScaler(with_mean=False),\n",
       "                                 [&#x27;emp_length&#x27;, &#x27;annual_income&#x27;,\n",
       "                                  &#x27;debt_to_income&#x27;, &#x27;delinq_2y&#x27;,\n",
       "                                  &#x27;months_since_last_delinq&#x27;,\n",
       "                                  &#x27;earliest_credit_line&#x27;, &#x27;inquiries_last_12m&#x27;,\n",
       "                                  &#x27;total_credit_lines&#x27;, &#x27;open_credit_lines&#x27;,\n",
       "                                  &#x27;total_credit_limit&#x27;, &#x27;total_credit_utilized&#x27;,\n",
       "                                  &#x27;num_collections_last_12m&#x27;,\n",
       "                                  &#x27;num_historical_failed_to...\n",
       "                                  &#x27;total_debit_limit&#x27;, &#x27;num_total_cc_accounts&#x27;,\n",
       "                                  &#x27;num_open_cc_accounts&#x27;,\n",
       "                                  &#x27;num_cc_carrying_balance&#x27;,\n",
       "                                  &#x27;num_mort_accounts&#x27;,\n",
       "                                  &#x27;account_never_delinq_percent&#x27;, &#x27;tax_liens&#x27;, ...]),\n",
       "                                (&#x27;onehotencoder&#x27;,\n",
       "                                 OneHotEncoder(handle_unknown=&#x27;ignore&#x27;),\n",
       "                                 [&#x27;emp_title&#x27;, &#x27;state&#x27;, &#x27;homeownership&#x27;,\n",
       "                                  &#x27;verified_income&#x27;, &#x27;loan_purpose&#x27;,\n",
       "                                  &#x27;application_type&#x27;, &#x27;grade&#x27;, &#x27;sub_grade&#x27;,\n",
       "                                  &#x27;issue_month&#x27;, &#x27;initial_listing_status&#x27;,\n",
       "                                  &#x27;disbursement_method&#x27;])])</pre></div></div></div><div class=\"sk-parallel\"><div class=\"sk-parallel-item\"><div class=\"sk-item\"><div class=\"sk-label-container\"><div class=\"sk-label sk-toggleable\"><input class=\"sk-toggleable__control sk-hidden--visually\" id=\"sk-estimator-id-3\" type=\"checkbox\" ><label for=\"sk-estimator-id-3\" class=\"sk-toggleable__label sk-toggleable__label-arrow\">standardscaler</label><div class=\"sk-toggleable__content\"><pre>[&#x27;emp_length&#x27;, &#x27;annual_income&#x27;, &#x27;debt_to_income&#x27;, &#x27;delinq_2y&#x27;, &#x27;months_since_last_delinq&#x27;, &#x27;earliest_credit_line&#x27;, &#x27;inquiries_last_12m&#x27;, &#x27;total_credit_lines&#x27;, &#x27;open_credit_lines&#x27;, &#x27;total_credit_limit&#x27;, &#x27;total_credit_utilized&#x27;, &#x27;num_collections_last_12m&#x27;, &#x27;num_historical_failed_to_pay&#x27;, &#x27;months_since_90d_late&#x27;, &#x27;current_accounts_delinq&#x27;, &#x27;total_collection_amount_ever&#x27;, &#x27;current_installment_accounts&#x27;, &#x27;accounts_opened_24m&#x27;, &#x27;months_since_last_credit_inquiry&#x27;, &#x27;num_satisfactory_accounts&#x27;, &#x27;num_accounts_120d_past_due&#x27;, &#x27;num_accounts_30d_past_due&#x27;, &#x27;num_active_debit_accounts&#x27;, &#x27;total_debit_limit&#x27;, &#x27;num_total_cc_accounts&#x27;, &#x27;num_open_cc_accounts&#x27;, &#x27;num_cc_carrying_balance&#x27;, &#x27;num_mort_accounts&#x27;, &#x27;account_never_delinq_percent&#x27;, &#x27;tax_liens&#x27;, &#x27;public_record_bankrupt&#x27;, &#x27;loan_amount&#x27;, &#x27;term&#x27;, &#x27;interest_rate&#x27;, &#x27;installment&#x27;, &#x27;balance&#x27;, &#x27;paid_total&#x27;, &#x27;paid_principal&#x27;, &#x27;paid_interest&#x27;, &#x27;paid_late_fees&#x27;]</pre></div></div></div><div class=\"sk-serial\"><div class=\"sk-item\"><div class=\"sk-estimator sk-toggleable\"><input class=\"sk-toggleable__control sk-hidden--visually\" id=\"sk-estimator-id-4\" type=\"checkbox\" ><label for=\"sk-estimator-id-4\" class=\"sk-toggleable__label sk-toggleable__label-arrow\">StandardScaler</label><div class=\"sk-toggleable__content\"><pre>StandardScaler(with_mean=False)</pre></div></div></div></div></div></div><div class=\"sk-parallel-item\"><div class=\"sk-item\"><div class=\"sk-label-container\"><div class=\"sk-label sk-toggleable\"><input class=\"sk-toggleable__control sk-hidden--visually\" id=\"sk-estimator-id-5\" type=\"checkbox\" ><label for=\"sk-estimator-id-5\" class=\"sk-toggleable__label sk-toggleable__label-arrow\">onehotencoder</label><div class=\"sk-toggleable__content\"><pre>[&#x27;emp_title&#x27;, &#x27;state&#x27;, &#x27;homeownership&#x27;, &#x27;verified_income&#x27;, &#x27;loan_purpose&#x27;, &#x27;application_type&#x27;, &#x27;grade&#x27;, &#x27;sub_grade&#x27;, &#x27;issue_month&#x27;, &#x27;initial_listing_status&#x27;, &#x27;disbursement_method&#x27;]</pre></div></div></div><div class=\"sk-serial\"><div class=\"sk-item\"><div class=\"sk-estimator sk-toggleable\"><input class=\"sk-toggleable__control sk-hidden--visually\" id=\"sk-estimator-id-6\" type=\"checkbox\" ><label for=\"sk-estimator-id-6\" class=\"sk-toggleable__label sk-toggleable__label-arrow\">OneHotEncoder</label><div class=\"sk-toggleable__content\"><pre>OneHotEncoder(handle_unknown=&#x27;ignore&#x27;)</pre></div></div></div></div></div></div></div></div><div class=\"sk-item\"><div class=\"sk-estimator sk-toggleable\"><input class=\"sk-toggleable__control sk-hidden--visually\" id=\"sk-estimator-id-7\" type=\"checkbox\" ><label for=\"sk-estimator-id-7\" class=\"sk-toggleable__label sk-toggleable__label-arrow\">LogisticRegression</label><div class=\"sk-toggleable__content\"><pre>LogisticRegression(class_weight={0: 0.5003502451716202, 1: 714.2857142857143},\n",
       "                   random_state=42)</pre></div></div></div></div></div></div></div>"
      ],
      "text/plain": [
       "Pipeline(steps=[('columntransformer',\n",
       "                 ColumnTransformer(transformers=[('standardscaler',\n",
       "                                                  StandardScaler(with_mean=False),\n",
       "                                                  ['emp_length',\n",
       "                                                   'annual_income',\n",
       "                                                   'debt_to_income',\n",
       "                                                   'delinq_2y',\n",
       "                                                   'months_since_last_delinq',\n",
       "                                                   'earliest_credit_line',\n",
       "                                                   'inquiries_last_12m',\n",
       "                                                   'total_credit_lines',\n",
       "                                                   'open_credit_lines',\n",
       "                                                   'total_credit_limit',\n",
       "                                                   'total_credit_utilized',\n",
       "                                                   'num_collection...\n",
       "                                                   'tax_liens', ...]),\n",
       "                                                 ('onehotencoder',\n",
       "                                                  OneHotEncoder(handle_unknown='ignore'),\n",
       "                                                  ['emp_title', 'state',\n",
       "                                                   'homeownership',\n",
       "                                                   'verified_income',\n",
       "                                                   'loan_purpose',\n",
       "                                                   'application_type', 'grade',\n",
       "                                                   'sub_grade', 'issue_month',\n",
       "                                                   'initial_listing_status',\n",
       "                                                   'disbursement_method'])])),\n",
       "                ('logisticregression',\n",
       "                 LogisticRegression(class_weight={0: 0.5003502451716202,\n",
       "                                                  1: 714.2857142857143},\n",
       "                                    random_state=42))])"
      ]
     },
     "execution_count": 11,
     "metadata": {},
     "output_type": "execute_result"
    }
   ],
   "source": [
    "#logistic regression\n",
    "log_reg = LogisticRegression(class_weight=class_weights, random_state=42)\n",
    "\n",
    "pipeline = make_pipeline(preprocessor, log_reg)\n",
    "pipeline.fit(X_train, y_train)"
   ]
  },
  {
   "cell_type": "code",
   "execution_count": 12,
   "metadata": {},
   "outputs": [
    {
     "data": {
      "text/plain": [
       "0.4"
      ]
     },
     "execution_count": 12,
     "metadata": {},
     "output_type": "execute_result"
    }
   ],
   "source": [
    "y_preds = pipeline.predict(X_val) \n",
    "f1 = f1_score(y_val, y_preds)\n",
    "f1"
   ]
  },
  {
   "cell_type": "code",
   "execution_count": 13,
   "metadata": {},
   "outputs": [
    {
     "name": "stdout",
     "output_type": "stream",
     "text": [
      "training accuracy:  0.9975\n",
      "\n",
      "              precision    recall  f1-score   support\n",
      "\n",
      "           0       1.00      1.00      1.00       999\n",
      "           1       0.25      1.00      0.40         1\n",
      "\n",
      "    accuracy                           1.00      1000\n",
      "   macro avg       0.62      1.00      0.70      1000\n",
      "weighted avg       1.00      1.00      1.00      1000\n",
      "\n"
     ]
    }
   ],
   "source": [
    "print(\"training accuracy: \", pipeline.score(X_train, y_train))\n",
    "print('')\n",
    "y_preds = pipeline.predict(X_val)\n",
    "print(classification_report(y_val, y_preds))"
   ]
  },
  {
   "cell_type": "code",
   "execution_count": 14,
   "metadata": {},
   "outputs": [
    {
     "name": "stdout",
     "output_type": "stream",
     "text": [
      "Area Under Curve\n",
      "0.998998998998999\n",
      "\n"
     ]
    }
   ],
   "source": [
    "y_preds_prob = pipeline.predict_proba(X_val)[:, 1]  # Use the probabilities for the positive class\n",
    "print('Area Under Curve')\n",
    "print(roc_auc_score(y_val, y_preds_prob))\n",
    "print('')\n"
   ]
  },
  {
   "cell_type": "code",
   "execution_count": 15,
   "metadata": {},
   "outputs": [
    {
     "data": {
      "text/html": [
       "<style>#sk-container-id-2 {color: black;}#sk-container-id-2 pre{padding: 0;}#sk-container-id-2 div.sk-toggleable {background-color: white;}#sk-container-id-2 label.sk-toggleable__label {cursor: pointer;display: block;width: 100%;margin-bottom: 0;padding: 0.3em;box-sizing: border-box;text-align: center;}#sk-container-id-2 label.sk-toggleable__label-arrow:before {content: \"▸\";float: left;margin-right: 0.25em;color: #696969;}#sk-container-id-2 label.sk-toggleable__label-arrow:hover:before {color: black;}#sk-container-id-2 div.sk-estimator:hover label.sk-toggleable__label-arrow:before {color: black;}#sk-container-id-2 div.sk-toggleable__content {max-height: 0;max-width: 0;overflow: hidden;text-align: left;background-color: #f0f8ff;}#sk-container-id-2 div.sk-toggleable__content pre {margin: 0.2em;color: black;border-radius: 0.25em;background-color: #f0f8ff;}#sk-container-id-2 input.sk-toggleable__control:checked~div.sk-toggleable__content {max-height: 200px;max-width: 100%;overflow: auto;}#sk-container-id-2 input.sk-toggleable__control:checked~label.sk-toggleable__label-arrow:before {content: \"▾\";}#sk-container-id-2 div.sk-estimator input.sk-toggleable__control:checked~label.sk-toggleable__label {background-color: #d4ebff;}#sk-container-id-2 div.sk-label input.sk-toggleable__control:checked~label.sk-toggleable__label {background-color: #d4ebff;}#sk-container-id-2 input.sk-hidden--visually {border: 0;clip: rect(1px 1px 1px 1px);clip: rect(1px, 1px, 1px, 1px);height: 1px;margin: -1px;overflow: hidden;padding: 0;position: absolute;width: 1px;}#sk-container-id-2 div.sk-estimator {font-family: monospace;background-color: #f0f8ff;border: 1px dotted black;border-radius: 0.25em;box-sizing: border-box;margin-bottom: 0.5em;}#sk-container-id-2 div.sk-estimator:hover {background-color: #d4ebff;}#sk-container-id-2 div.sk-parallel-item::after {content: \"\";width: 100%;border-bottom: 1px solid gray;flex-grow: 1;}#sk-container-id-2 div.sk-label:hover label.sk-toggleable__label {background-color: #d4ebff;}#sk-container-id-2 div.sk-serial::before {content: \"\";position: absolute;border-left: 1px solid gray;box-sizing: border-box;top: 0;bottom: 0;left: 50%;z-index: 0;}#sk-container-id-2 div.sk-serial {display: flex;flex-direction: column;align-items: center;background-color: white;padding-right: 0.2em;padding-left: 0.2em;position: relative;}#sk-container-id-2 div.sk-item {position: relative;z-index: 1;}#sk-container-id-2 div.sk-parallel {display: flex;align-items: stretch;justify-content: center;background-color: white;position: relative;}#sk-container-id-2 div.sk-item::before, #sk-container-id-2 div.sk-parallel-item::before {content: \"\";position: absolute;border-left: 1px solid gray;box-sizing: border-box;top: 0;bottom: 0;left: 50%;z-index: -1;}#sk-container-id-2 div.sk-parallel-item {display: flex;flex-direction: column;z-index: 1;position: relative;background-color: white;}#sk-container-id-2 div.sk-parallel-item:first-child::after {align-self: flex-end;width: 50%;}#sk-container-id-2 div.sk-parallel-item:last-child::after {align-self: flex-start;width: 50%;}#sk-container-id-2 div.sk-parallel-item:only-child::after {width: 0;}#sk-container-id-2 div.sk-dashed-wrapped {border: 1px dashed gray;margin: 0 0.4em 0.5em 0.4em;box-sizing: border-box;padding-bottom: 0.4em;background-color: white;}#sk-container-id-2 div.sk-label label {font-family: monospace;font-weight: bold;display: inline-block;line-height: 1.2em;}#sk-container-id-2 div.sk-label-container {text-align: center;}#sk-container-id-2 div.sk-container {/* jupyter's `normalize.less` sets `[hidden] { display: none; }` but bootstrap.min.css set `[hidden] { display: none !important; }` so we also need the `!important` here to be able to override the default hidden behavior on the sphinx rendered scikit-learn.org. See: https://github.com/scikit-learn/scikit-learn/issues/21755 */display: inline-block !important;position: relative;}#sk-container-id-2 div.sk-text-repr-fallback {display: none;}</style><div id=\"sk-container-id-2\" class=\"sk-top-container\"><div class=\"sk-text-repr-fallback\"><pre>Pipeline(steps=[(&#x27;columntransformer&#x27;,\n",
       "                 ColumnTransformer(transformers=[(&#x27;standardscaler&#x27;,\n",
       "                                                  StandardScaler(with_mean=False),\n",
       "                                                  [&#x27;emp_length&#x27;,\n",
       "                                                   &#x27;annual_income&#x27;,\n",
       "                                                   &#x27;debt_to_income&#x27;,\n",
       "                                                   &#x27;delinq_2y&#x27;,\n",
       "                                                   &#x27;months_since_last_delinq&#x27;,\n",
       "                                                   &#x27;earliest_credit_line&#x27;,\n",
       "                                                   &#x27;inquiries_last_12m&#x27;,\n",
       "                                                   &#x27;total_credit_lines&#x27;,\n",
       "                                                   &#x27;open_credit_lines&#x27;,\n",
       "                                                   &#x27;total_credit_limit&#x27;,\n",
       "                                                   &#x27;total_credit_utilized&#x27;,\n",
       "                                                   &#x27;num_collection...\n",
       "                                                 (&#x27;onehotencoder&#x27;,\n",
       "                                                  OneHotEncoder(handle_unknown=&#x27;ignore&#x27;),\n",
       "                                                  [&#x27;emp_title&#x27;, &#x27;state&#x27;,\n",
       "                                                   &#x27;homeownership&#x27;,\n",
       "                                                   &#x27;verified_income&#x27;,\n",
       "                                                   &#x27;loan_purpose&#x27;,\n",
       "                                                   &#x27;application_type&#x27;, &#x27;grade&#x27;,\n",
       "                                                   &#x27;sub_grade&#x27;, &#x27;issue_month&#x27;,\n",
       "                                                   &#x27;initial_listing_status&#x27;,\n",
       "                                                   &#x27;disbursement_method&#x27;])])),\n",
       "                (&#x27;randomforestclassifier&#x27;,\n",
       "                 RandomForestClassifier(class_weight={0: 0.5003502451716202,\n",
       "                                                      1: 714.2857142857143},\n",
       "                                        random_state=42))])</pre><b>In a Jupyter environment, please rerun this cell to show the HTML representation or trust the notebook. <br />On GitHub, the HTML representation is unable to render, please try loading this page with nbviewer.org.</b></div><div class=\"sk-container\" hidden><div class=\"sk-item sk-dashed-wrapped\"><div class=\"sk-label-container\"><div class=\"sk-label sk-toggleable\"><input class=\"sk-toggleable__control sk-hidden--visually\" id=\"sk-estimator-id-8\" type=\"checkbox\" ><label for=\"sk-estimator-id-8\" class=\"sk-toggleable__label sk-toggleable__label-arrow\">Pipeline</label><div class=\"sk-toggleable__content\"><pre>Pipeline(steps=[(&#x27;columntransformer&#x27;,\n",
       "                 ColumnTransformer(transformers=[(&#x27;standardscaler&#x27;,\n",
       "                                                  StandardScaler(with_mean=False),\n",
       "                                                  [&#x27;emp_length&#x27;,\n",
       "                                                   &#x27;annual_income&#x27;,\n",
       "                                                   &#x27;debt_to_income&#x27;,\n",
       "                                                   &#x27;delinq_2y&#x27;,\n",
       "                                                   &#x27;months_since_last_delinq&#x27;,\n",
       "                                                   &#x27;earliest_credit_line&#x27;,\n",
       "                                                   &#x27;inquiries_last_12m&#x27;,\n",
       "                                                   &#x27;total_credit_lines&#x27;,\n",
       "                                                   &#x27;open_credit_lines&#x27;,\n",
       "                                                   &#x27;total_credit_limit&#x27;,\n",
       "                                                   &#x27;total_credit_utilized&#x27;,\n",
       "                                                   &#x27;num_collection...\n",
       "                                                 (&#x27;onehotencoder&#x27;,\n",
       "                                                  OneHotEncoder(handle_unknown=&#x27;ignore&#x27;),\n",
       "                                                  [&#x27;emp_title&#x27;, &#x27;state&#x27;,\n",
       "                                                   &#x27;homeownership&#x27;,\n",
       "                                                   &#x27;verified_income&#x27;,\n",
       "                                                   &#x27;loan_purpose&#x27;,\n",
       "                                                   &#x27;application_type&#x27;, &#x27;grade&#x27;,\n",
       "                                                   &#x27;sub_grade&#x27;, &#x27;issue_month&#x27;,\n",
       "                                                   &#x27;initial_listing_status&#x27;,\n",
       "                                                   &#x27;disbursement_method&#x27;])])),\n",
       "                (&#x27;randomforestclassifier&#x27;,\n",
       "                 RandomForestClassifier(class_weight={0: 0.5003502451716202,\n",
       "                                                      1: 714.2857142857143},\n",
       "                                        random_state=42))])</pre></div></div></div><div class=\"sk-serial\"><div class=\"sk-item sk-dashed-wrapped\"><div class=\"sk-label-container\"><div class=\"sk-label sk-toggleable\"><input class=\"sk-toggleable__control sk-hidden--visually\" id=\"sk-estimator-id-9\" type=\"checkbox\" ><label for=\"sk-estimator-id-9\" class=\"sk-toggleable__label sk-toggleable__label-arrow\">columntransformer: ColumnTransformer</label><div class=\"sk-toggleable__content\"><pre>ColumnTransformer(transformers=[(&#x27;standardscaler&#x27;,\n",
       "                                 StandardScaler(with_mean=False),\n",
       "                                 [&#x27;emp_length&#x27;, &#x27;annual_income&#x27;,\n",
       "                                  &#x27;debt_to_income&#x27;, &#x27;delinq_2y&#x27;,\n",
       "                                  &#x27;months_since_last_delinq&#x27;,\n",
       "                                  &#x27;earliest_credit_line&#x27;, &#x27;inquiries_last_12m&#x27;,\n",
       "                                  &#x27;total_credit_lines&#x27;, &#x27;open_credit_lines&#x27;,\n",
       "                                  &#x27;total_credit_limit&#x27;, &#x27;total_credit_utilized&#x27;,\n",
       "                                  &#x27;num_collections_last_12m&#x27;,\n",
       "                                  &#x27;num_historical_failed_to...\n",
       "                                  &#x27;total_debit_limit&#x27;, &#x27;num_total_cc_accounts&#x27;,\n",
       "                                  &#x27;num_open_cc_accounts&#x27;,\n",
       "                                  &#x27;num_cc_carrying_balance&#x27;,\n",
       "                                  &#x27;num_mort_accounts&#x27;,\n",
       "                                  &#x27;account_never_delinq_percent&#x27;, &#x27;tax_liens&#x27;, ...]),\n",
       "                                (&#x27;onehotencoder&#x27;,\n",
       "                                 OneHotEncoder(handle_unknown=&#x27;ignore&#x27;),\n",
       "                                 [&#x27;emp_title&#x27;, &#x27;state&#x27;, &#x27;homeownership&#x27;,\n",
       "                                  &#x27;verified_income&#x27;, &#x27;loan_purpose&#x27;,\n",
       "                                  &#x27;application_type&#x27;, &#x27;grade&#x27;, &#x27;sub_grade&#x27;,\n",
       "                                  &#x27;issue_month&#x27;, &#x27;initial_listing_status&#x27;,\n",
       "                                  &#x27;disbursement_method&#x27;])])</pre></div></div></div><div class=\"sk-parallel\"><div class=\"sk-parallel-item\"><div class=\"sk-item\"><div class=\"sk-label-container\"><div class=\"sk-label sk-toggleable\"><input class=\"sk-toggleable__control sk-hidden--visually\" id=\"sk-estimator-id-10\" type=\"checkbox\" ><label for=\"sk-estimator-id-10\" class=\"sk-toggleable__label sk-toggleable__label-arrow\">standardscaler</label><div class=\"sk-toggleable__content\"><pre>[&#x27;emp_length&#x27;, &#x27;annual_income&#x27;, &#x27;debt_to_income&#x27;, &#x27;delinq_2y&#x27;, &#x27;months_since_last_delinq&#x27;, &#x27;earliest_credit_line&#x27;, &#x27;inquiries_last_12m&#x27;, &#x27;total_credit_lines&#x27;, &#x27;open_credit_lines&#x27;, &#x27;total_credit_limit&#x27;, &#x27;total_credit_utilized&#x27;, &#x27;num_collections_last_12m&#x27;, &#x27;num_historical_failed_to_pay&#x27;, &#x27;months_since_90d_late&#x27;, &#x27;current_accounts_delinq&#x27;, &#x27;total_collection_amount_ever&#x27;, &#x27;current_installment_accounts&#x27;, &#x27;accounts_opened_24m&#x27;, &#x27;months_since_last_credit_inquiry&#x27;, &#x27;num_satisfactory_accounts&#x27;, &#x27;num_accounts_120d_past_due&#x27;, &#x27;num_accounts_30d_past_due&#x27;, &#x27;num_active_debit_accounts&#x27;, &#x27;total_debit_limit&#x27;, &#x27;num_total_cc_accounts&#x27;, &#x27;num_open_cc_accounts&#x27;, &#x27;num_cc_carrying_balance&#x27;, &#x27;num_mort_accounts&#x27;, &#x27;account_never_delinq_percent&#x27;, &#x27;tax_liens&#x27;, &#x27;public_record_bankrupt&#x27;, &#x27;loan_amount&#x27;, &#x27;term&#x27;, &#x27;interest_rate&#x27;, &#x27;installment&#x27;, &#x27;balance&#x27;, &#x27;paid_total&#x27;, &#x27;paid_principal&#x27;, &#x27;paid_interest&#x27;, &#x27;paid_late_fees&#x27;]</pre></div></div></div><div class=\"sk-serial\"><div class=\"sk-item\"><div class=\"sk-estimator sk-toggleable\"><input class=\"sk-toggleable__control sk-hidden--visually\" id=\"sk-estimator-id-11\" type=\"checkbox\" ><label for=\"sk-estimator-id-11\" class=\"sk-toggleable__label sk-toggleable__label-arrow\">StandardScaler</label><div class=\"sk-toggleable__content\"><pre>StandardScaler(with_mean=False)</pre></div></div></div></div></div></div><div class=\"sk-parallel-item\"><div class=\"sk-item\"><div class=\"sk-label-container\"><div class=\"sk-label sk-toggleable\"><input class=\"sk-toggleable__control sk-hidden--visually\" id=\"sk-estimator-id-12\" type=\"checkbox\" ><label for=\"sk-estimator-id-12\" class=\"sk-toggleable__label sk-toggleable__label-arrow\">onehotencoder</label><div class=\"sk-toggleable__content\"><pre>[&#x27;emp_title&#x27;, &#x27;state&#x27;, &#x27;homeownership&#x27;, &#x27;verified_income&#x27;, &#x27;loan_purpose&#x27;, &#x27;application_type&#x27;, &#x27;grade&#x27;, &#x27;sub_grade&#x27;, &#x27;issue_month&#x27;, &#x27;initial_listing_status&#x27;, &#x27;disbursement_method&#x27;]</pre></div></div></div><div class=\"sk-serial\"><div class=\"sk-item\"><div class=\"sk-estimator sk-toggleable\"><input class=\"sk-toggleable__control sk-hidden--visually\" id=\"sk-estimator-id-13\" type=\"checkbox\" ><label for=\"sk-estimator-id-13\" class=\"sk-toggleable__label sk-toggleable__label-arrow\">OneHotEncoder</label><div class=\"sk-toggleable__content\"><pre>OneHotEncoder(handle_unknown=&#x27;ignore&#x27;)</pre></div></div></div></div></div></div></div></div><div class=\"sk-item\"><div class=\"sk-estimator sk-toggleable\"><input class=\"sk-toggleable__control sk-hidden--visually\" id=\"sk-estimator-id-14\" type=\"checkbox\" ><label for=\"sk-estimator-id-14\" class=\"sk-toggleable__label sk-toggleable__label-arrow\">RandomForestClassifier</label><div class=\"sk-toggleable__content\"><pre>RandomForestClassifier(class_weight={0: 0.5003502451716202,\n",
       "                                     1: 714.2857142857143},\n",
       "                       random_state=42)</pre></div></div></div></div></div></div></div>"
      ],
      "text/plain": [
       "Pipeline(steps=[('columntransformer',\n",
       "                 ColumnTransformer(transformers=[('standardscaler',\n",
       "                                                  StandardScaler(with_mean=False),\n",
       "                                                  ['emp_length',\n",
       "                                                   'annual_income',\n",
       "                                                   'debt_to_income',\n",
       "                                                   'delinq_2y',\n",
       "                                                   'months_since_last_delinq',\n",
       "                                                   'earliest_credit_line',\n",
       "                                                   'inquiries_last_12m',\n",
       "                                                   'total_credit_lines',\n",
       "                                                   'open_credit_lines',\n",
       "                                                   'total_credit_limit',\n",
       "                                                   'total_credit_utilized',\n",
       "                                                   'num_collection...\n",
       "                                                 ('onehotencoder',\n",
       "                                                  OneHotEncoder(handle_unknown='ignore'),\n",
       "                                                  ['emp_title', 'state',\n",
       "                                                   'homeownership',\n",
       "                                                   'verified_income',\n",
       "                                                   'loan_purpose',\n",
       "                                                   'application_type', 'grade',\n",
       "                                                   'sub_grade', 'issue_month',\n",
       "                                                   'initial_listing_status',\n",
       "                                                   'disbursement_method'])])),\n",
       "                ('randomforestclassifier',\n",
       "                 RandomForestClassifier(class_weight={0: 0.5003502451716202,\n",
       "                                                      1: 714.2857142857143},\n",
       "                                        random_state=42))])"
      ]
     },
     "execution_count": 15,
     "metadata": {},
     "output_type": "execute_result"
    }
   ],
   "source": [
    "rf_clf = RandomForestClassifier(class_weight=class_weights, random_state=42)\n",
    "\n",
    "pipeline = make_pipeline(preprocessor, rf_clf)\n",
    "pipeline.fit(X_train, y_train)"
   ]
  },
  {
   "cell_type": "code",
   "execution_count": 16,
   "metadata": {},
   "outputs": [
    {
     "data": {
      "text/plain": [
       "0.0"
      ]
     },
     "execution_count": 16,
     "metadata": {},
     "output_type": "execute_result"
    }
   ],
   "source": [
    "y_preds = pipeline.predict(X_val) \n",
    "f1 = f1_score(y_val, y_preds)\n",
    "f1"
   ]
  },
  {
   "cell_type": "code",
   "execution_count": 17,
   "metadata": {},
   "outputs": [
    {
     "name": "stdout",
     "output_type": "stream",
     "text": [
      "training accuracy:  1.0\n",
      "\n",
      "              precision    recall  f1-score   support\n",
      "\n",
      "           0       1.00      1.00      1.00       999\n",
      "           1       0.00      0.00      0.00         1\n",
      "\n",
      "    accuracy                           1.00      1000\n",
      "   macro avg       0.50      0.50      0.50      1000\n",
      "weighted avg       1.00      1.00      1.00      1000\n",
      "\n"
     ]
    }
   ],
   "source": [
    "print(\"training accuracy: \", pipeline.score(X_train, y_train))\n",
    "print('')\n",
    "y_preds = pipeline.predict(X_val)\n",
    "print(classification_report(y_val, y_preds))"
   ]
  },
  {
   "cell_type": "code",
   "execution_count": 18,
   "metadata": {},
   "outputs": [
    {
     "data": {
      "text/html": [
       "<style>#sk-container-id-3 {color: black;}#sk-container-id-3 pre{padding: 0;}#sk-container-id-3 div.sk-toggleable {background-color: white;}#sk-container-id-3 label.sk-toggleable__label {cursor: pointer;display: block;width: 100%;margin-bottom: 0;padding: 0.3em;box-sizing: border-box;text-align: center;}#sk-container-id-3 label.sk-toggleable__label-arrow:before {content: \"▸\";float: left;margin-right: 0.25em;color: #696969;}#sk-container-id-3 label.sk-toggleable__label-arrow:hover:before {color: black;}#sk-container-id-3 div.sk-estimator:hover label.sk-toggleable__label-arrow:before {color: black;}#sk-container-id-3 div.sk-toggleable__content {max-height: 0;max-width: 0;overflow: hidden;text-align: left;background-color: #f0f8ff;}#sk-container-id-3 div.sk-toggleable__content pre {margin: 0.2em;color: black;border-radius: 0.25em;background-color: #f0f8ff;}#sk-container-id-3 input.sk-toggleable__control:checked~div.sk-toggleable__content {max-height: 200px;max-width: 100%;overflow: auto;}#sk-container-id-3 input.sk-toggleable__control:checked~label.sk-toggleable__label-arrow:before {content: \"▾\";}#sk-container-id-3 div.sk-estimator input.sk-toggleable__control:checked~label.sk-toggleable__label {background-color: #d4ebff;}#sk-container-id-3 div.sk-label input.sk-toggleable__control:checked~label.sk-toggleable__label {background-color: #d4ebff;}#sk-container-id-3 input.sk-hidden--visually {border: 0;clip: rect(1px 1px 1px 1px);clip: rect(1px, 1px, 1px, 1px);height: 1px;margin: -1px;overflow: hidden;padding: 0;position: absolute;width: 1px;}#sk-container-id-3 div.sk-estimator {font-family: monospace;background-color: #f0f8ff;border: 1px dotted black;border-radius: 0.25em;box-sizing: border-box;margin-bottom: 0.5em;}#sk-container-id-3 div.sk-estimator:hover {background-color: #d4ebff;}#sk-container-id-3 div.sk-parallel-item::after {content: \"\";width: 100%;border-bottom: 1px solid gray;flex-grow: 1;}#sk-container-id-3 div.sk-label:hover label.sk-toggleable__label {background-color: #d4ebff;}#sk-container-id-3 div.sk-serial::before {content: \"\";position: absolute;border-left: 1px solid gray;box-sizing: border-box;top: 0;bottom: 0;left: 50%;z-index: 0;}#sk-container-id-3 div.sk-serial {display: flex;flex-direction: column;align-items: center;background-color: white;padding-right: 0.2em;padding-left: 0.2em;position: relative;}#sk-container-id-3 div.sk-item {position: relative;z-index: 1;}#sk-container-id-3 div.sk-parallel {display: flex;align-items: stretch;justify-content: center;background-color: white;position: relative;}#sk-container-id-3 div.sk-item::before, #sk-container-id-3 div.sk-parallel-item::before {content: \"\";position: absolute;border-left: 1px solid gray;box-sizing: border-box;top: 0;bottom: 0;left: 50%;z-index: -1;}#sk-container-id-3 div.sk-parallel-item {display: flex;flex-direction: column;z-index: 1;position: relative;background-color: white;}#sk-container-id-3 div.sk-parallel-item:first-child::after {align-self: flex-end;width: 50%;}#sk-container-id-3 div.sk-parallel-item:last-child::after {align-self: flex-start;width: 50%;}#sk-container-id-3 div.sk-parallel-item:only-child::after {width: 0;}#sk-container-id-3 div.sk-dashed-wrapped {border: 1px dashed gray;margin: 0 0.4em 0.5em 0.4em;box-sizing: border-box;padding-bottom: 0.4em;background-color: white;}#sk-container-id-3 div.sk-label label {font-family: monospace;font-weight: bold;display: inline-block;line-height: 1.2em;}#sk-container-id-3 div.sk-label-container {text-align: center;}#sk-container-id-3 div.sk-container {/* jupyter's `normalize.less` sets `[hidden] { display: none; }` but bootstrap.min.css set `[hidden] { display: none !important; }` so we also need the `!important` here to be able to override the default hidden behavior on the sphinx rendered scikit-learn.org. See: https://github.com/scikit-learn/scikit-learn/issues/21755 */display: inline-block !important;position: relative;}#sk-container-id-3 div.sk-text-repr-fallback {display: none;}</style><div id=\"sk-container-id-3\" class=\"sk-top-container\"><div class=\"sk-text-repr-fallback\"><pre>Pipeline(steps=[(&#x27;columntransformer&#x27;,\n",
       "                 ColumnTransformer(transformers=[(&#x27;standardscaler&#x27;,\n",
       "                                                  StandardScaler(with_mean=False),\n",
       "                                                  [&#x27;emp_length&#x27;,\n",
       "                                                   &#x27;annual_income&#x27;,\n",
       "                                                   &#x27;debt_to_income&#x27;,\n",
       "                                                   &#x27;delinq_2y&#x27;,\n",
       "                                                   &#x27;months_since_last_delinq&#x27;,\n",
       "                                                   &#x27;earliest_credit_line&#x27;,\n",
       "                                                   &#x27;inquiries_last_12m&#x27;,\n",
       "                                                   &#x27;total_credit_lines&#x27;,\n",
       "                                                   &#x27;open_credit_lines&#x27;,\n",
       "                                                   &#x27;total_credit_limit&#x27;,\n",
       "                                                   &#x27;total_credit_utilized&#x27;,\n",
       "                                                   &#x27;num_collection...\n",
       "                               feature_types=None, gamma=None, gpu_id=None,\n",
       "                               grow_policy=None, importance_type=None,\n",
       "                               interaction_constraints=None, learning_rate=None,\n",
       "                               max_bin=None, max_cat_threshold=None,\n",
       "                               max_cat_to_onehot=None, max_delta_step=None,\n",
       "                               max_depth=None, max_leaves=None,\n",
       "                               min_child_weight=None, missing=nan,\n",
       "                               monotone_constraints=None, n_estimators=100,\n",
       "                               n_jobs=None, num_parallel_tree=None,\n",
       "                               predictor=None, random_state=42, ...))])</pre><b>In a Jupyter environment, please rerun this cell to show the HTML representation or trust the notebook. <br />On GitHub, the HTML representation is unable to render, please try loading this page with nbviewer.org.</b></div><div class=\"sk-container\" hidden><div class=\"sk-item sk-dashed-wrapped\"><div class=\"sk-label-container\"><div class=\"sk-label sk-toggleable\"><input class=\"sk-toggleable__control sk-hidden--visually\" id=\"sk-estimator-id-15\" type=\"checkbox\" ><label for=\"sk-estimator-id-15\" class=\"sk-toggleable__label sk-toggleable__label-arrow\">Pipeline</label><div class=\"sk-toggleable__content\"><pre>Pipeline(steps=[(&#x27;columntransformer&#x27;,\n",
       "                 ColumnTransformer(transformers=[(&#x27;standardscaler&#x27;,\n",
       "                                                  StandardScaler(with_mean=False),\n",
       "                                                  [&#x27;emp_length&#x27;,\n",
       "                                                   &#x27;annual_income&#x27;,\n",
       "                                                   &#x27;debt_to_income&#x27;,\n",
       "                                                   &#x27;delinq_2y&#x27;,\n",
       "                                                   &#x27;months_since_last_delinq&#x27;,\n",
       "                                                   &#x27;earliest_credit_line&#x27;,\n",
       "                                                   &#x27;inquiries_last_12m&#x27;,\n",
       "                                                   &#x27;total_credit_lines&#x27;,\n",
       "                                                   &#x27;open_credit_lines&#x27;,\n",
       "                                                   &#x27;total_credit_limit&#x27;,\n",
       "                                                   &#x27;total_credit_utilized&#x27;,\n",
       "                                                   &#x27;num_collection...\n",
       "                               feature_types=None, gamma=None, gpu_id=None,\n",
       "                               grow_policy=None, importance_type=None,\n",
       "                               interaction_constraints=None, learning_rate=None,\n",
       "                               max_bin=None, max_cat_threshold=None,\n",
       "                               max_cat_to_onehot=None, max_delta_step=None,\n",
       "                               max_depth=None, max_leaves=None,\n",
       "                               min_child_weight=None, missing=nan,\n",
       "                               monotone_constraints=None, n_estimators=100,\n",
       "                               n_jobs=None, num_parallel_tree=None,\n",
       "                               predictor=None, random_state=42, ...))])</pre></div></div></div><div class=\"sk-serial\"><div class=\"sk-item sk-dashed-wrapped\"><div class=\"sk-label-container\"><div class=\"sk-label sk-toggleable\"><input class=\"sk-toggleable__control sk-hidden--visually\" id=\"sk-estimator-id-16\" type=\"checkbox\" ><label for=\"sk-estimator-id-16\" class=\"sk-toggleable__label sk-toggleable__label-arrow\">columntransformer: ColumnTransformer</label><div class=\"sk-toggleable__content\"><pre>ColumnTransformer(transformers=[(&#x27;standardscaler&#x27;,\n",
       "                                 StandardScaler(with_mean=False),\n",
       "                                 [&#x27;emp_length&#x27;, &#x27;annual_income&#x27;,\n",
       "                                  &#x27;debt_to_income&#x27;, &#x27;delinq_2y&#x27;,\n",
       "                                  &#x27;months_since_last_delinq&#x27;,\n",
       "                                  &#x27;earliest_credit_line&#x27;, &#x27;inquiries_last_12m&#x27;,\n",
       "                                  &#x27;total_credit_lines&#x27;, &#x27;open_credit_lines&#x27;,\n",
       "                                  &#x27;total_credit_limit&#x27;, &#x27;total_credit_utilized&#x27;,\n",
       "                                  &#x27;num_collections_last_12m&#x27;,\n",
       "                                  &#x27;num_historical_failed_to...\n",
       "                                  &#x27;total_debit_limit&#x27;, &#x27;num_total_cc_accounts&#x27;,\n",
       "                                  &#x27;num_open_cc_accounts&#x27;,\n",
       "                                  &#x27;num_cc_carrying_balance&#x27;,\n",
       "                                  &#x27;num_mort_accounts&#x27;,\n",
       "                                  &#x27;account_never_delinq_percent&#x27;, &#x27;tax_liens&#x27;, ...]),\n",
       "                                (&#x27;onehotencoder&#x27;,\n",
       "                                 OneHotEncoder(handle_unknown=&#x27;ignore&#x27;),\n",
       "                                 [&#x27;emp_title&#x27;, &#x27;state&#x27;, &#x27;homeownership&#x27;,\n",
       "                                  &#x27;verified_income&#x27;, &#x27;loan_purpose&#x27;,\n",
       "                                  &#x27;application_type&#x27;, &#x27;grade&#x27;, &#x27;sub_grade&#x27;,\n",
       "                                  &#x27;issue_month&#x27;, &#x27;initial_listing_status&#x27;,\n",
       "                                  &#x27;disbursement_method&#x27;])])</pre></div></div></div><div class=\"sk-parallel\"><div class=\"sk-parallel-item\"><div class=\"sk-item\"><div class=\"sk-label-container\"><div class=\"sk-label sk-toggleable\"><input class=\"sk-toggleable__control sk-hidden--visually\" id=\"sk-estimator-id-17\" type=\"checkbox\" ><label for=\"sk-estimator-id-17\" class=\"sk-toggleable__label sk-toggleable__label-arrow\">standardscaler</label><div class=\"sk-toggleable__content\"><pre>[&#x27;emp_length&#x27;, &#x27;annual_income&#x27;, &#x27;debt_to_income&#x27;, &#x27;delinq_2y&#x27;, &#x27;months_since_last_delinq&#x27;, &#x27;earliest_credit_line&#x27;, &#x27;inquiries_last_12m&#x27;, &#x27;total_credit_lines&#x27;, &#x27;open_credit_lines&#x27;, &#x27;total_credit_limit&#x27;, &#x27;total_credit_utilized&#x27;, &#x27;num_collections_last_12m&#x27;, &#x27;num_historical_failed_to_pay&#x27;, &#x27;months_since_90d_late&#x27;, &#x27;current_accounts_delinq&#x27;, &#x27;total_collection_amount_ever&#x27;, &#x27;current_installment_accounts&#x27;, &#x27;accounts_opened_24m&#x27;, &#x27;months_since_last_credit_inquiry&#x27;, &#x27;num_satisfactory_accounts&#x27;, &#x27;num_accounts_120d_past_due&#x27;, &#x27;num_accounts_30d_past_due&#x27;, &#x27;num_active_debit_accounts&#x27;, &#x27;total_debit_limit&#x27;, &#x27;num_total_cc_accounts&#x27;, &#x27;num_open_cc_accounts&#x27;, &#x27;num_cc_carrying_balance&#x27;, &#x27;num_mort_accounts&#x27;, &#x27;account_never_delinq_percent&#x27;, &#x27;tax_liens&#x27;, &#x27;public_record_bankrupt&#x27;, &#x27;loan_amount&#x27;, &#x27;term&#x27;, &#x27;interest_rate&#x27;, &#x27;installment&#x27;, &#x27;balance&#x27;, &#x27;paid_total&#x27;, &#x27;paid_principal&#x27;, &#x27;paid_interest&#x27;, &#x27;paid_late_fees&#x27;]</pre></div></div></div><div class=\"sk-serial\"><div class=\"sk-item\"><div class=\"sk-estimator sk-toggleable\"><input class=\"sk-toggleable__control sk-hidden--visually\" id=\"sk-estimator-id-18\" type=\"checkbox\" ><label for=\"sk-estimator-id-18\" class=\"sk-toggleable__label sk-toggleable__label-arrow\">StandardScaler</label><div class=\"sk-toggleable__content\"><pre>StandardScaler(with_mean=False)</pre></div></div></div></div></div></div><div class=\"sk-parallel-item\"><div class=\"sk-item\"><div class=\"sk-label-container\"><div class=\"sk-label sk-toggleable\"><input class=\"sk-toggleable__control sk-hidden--visually\" id=\"sk-estimator-id-19\" type=\"checkbox\" ><label for=\"sk-estimator-id-19\" class=\"sk-toggleable__label sk-toggleable__label-arrow\">onehotencoder</label><div class=\"sk-toggleable__content\"><pre>[&#x27;emp_title&#x27;, &#x27;state&#x27;, &#x27;homeownership&#x27;, &#x27;verified_income&#x27;, &#x27;loan_purpose&#x27;, &#x27;application_type&#x27;, &#x27;grade&#x27;, &#x27;sub_grade&#x27;, &#x27;issue_month&#x27;, &#x27;initial_listing_status&#x27;, &#x27;disbursement_method&#x27;]</pre></div></div></div><div class=\"sk-serial\"><div class=\"sk-item\"><div class=\"sk-estimator sk-toggleable\"><input class=\"sk-toggleable__control sk-hidden--visually\" id=\"sk-estimator-id-20\" type=\"checkbox\" ><label for=\"sk-estimator-id-20\" class=\"sk-toggleable__label sk-toggleable__label-arrow\">OneHotEncoder</label><div class=\"sk-toggleable__content\"><pre>OneHotEncoder(handle_unknown=&#x27;ignore&#x27;)</pre></div></div></div></div></div></div></div></div><div class=\"sk-item\"><div class=\"sk-estimator sk-toggleable\"><input class=\"sk-toggleable__control sk-hidden--visually\" id=\"sk-estimator-id-21\" type=\"checkbox\" ><label for=\"sk-estimator-id-21\" class=\"sk-toggleable__label sk-toggleable__label-arrow\">XGBClassifier</label><div class=\"sk-toggleable__content\"><pre>XGBClassifier(base_score=None, booster=None, callbacks=None,\n",
       "              colsample_bylevel=None, colsample_bynode=None,\n",
       "              colsample_bytree=None, early_stopping_rounds=None,\n",
       "              enable_categorical=False, eval_metric=None, feature_types=None,\n",
       "              gamma=None, gpu_id=None, grow_policy=None, importance_type=None,\n",
       "              interaction_constraints=None, learning_rate=None, max_bin=None,\n",
       "              max_cat_threshold=None, max_cat_to_onehot=None,\n",
       "              max_delta_step=None, max_depth=None, max_leaves=None,\n",
       "              min_child_weight=None, missing=nan, monotone_constraints=None,\n",
       "              n_estimators=100, n_jobs=None, num_parallel_tree=None,\n",
       "              predictor=None, random_state=42, ...)</pre></div></div></div></div></div></div></div>"
      ],
      "text/plain": [
       "Pipeline(steps=[('columntransformer',\n",
       "                 ColumnTransformer(transformers=[('standardscaler',\n",
       "                                                  StandardScaler(with_mean=False),\n",
       "                                                  ['emp_length',\n",
       "                                                   'annual_income',\n",
       "                                                   'debt_to_income',\n",
       "                                                   'delinq_2y',\n",
       "                                                   'months_since_last_delinq',\n",
       "                                                   'earliest_credit_line',\n",
       "                                                   'inquiries_last_12m',\n",
       "                                                   'total_credit_lines',\n",
       "                                                   'open_credit_lines',\n",
       "                                                   'total_credit_limit',\n",
       "                                                   'total_credit_utilized',\n",
       "                                                   'num_collection...\n",
       "                               feature_types=None, gamma=None, gpu_id=None,\n",
       "                               grow_policy=None, importance_type=None,\n",
       "                               interaction_constraints=None, learning_rate=None,\n",
       "                               max_bin=None, max_cat_threshold=None,\n",
       "                               max_cat_to_onehot=None, max_delta_step=None,\n",
       "                               max_depth=None, max_leaves=None,\n",
       "                               min_child_weight=None, missing=nan,\n",
       "                               monotone_constraints=None, n_estimators=100,\n",
       "                               n_jobs=None, num_parallel_tree=None,\n",
       "                               predictor=None, random_state=42, ...))])"
      ]
     },
     "execution_count": 18,
     "metadata": {},
     "output_type": "execute_result"
    }
   ],
   "source": [
    "xgb_clf = xgb.XGBClassifier(scale_pos_weight=class_weights[1], random_state=42)\n",
    "pipeline = make_pipeline(preprocessor, xgb_clf)\n",
    "pipeline.fit(X_train, y_train)"
   ]
  },
  {
   "cell_type": "code",
   "execution_count": 19,
   "metadata": {},
   "outputs": [
    {
     "data": {
      "text/plain": [
       "0.0"
      ]
     },
     "execution_count": 19,
     "metadata": {},
     "output_type": "execute_result"
    }
   ],
   "source": [
    "y_preds = pipeline.predict(X_val) \n",
    "f1 = f1_score(y_val, y_preds)\n",
    "f1"
   ]
  },
  {
   "cell_type": "code",
   "execution_count": 20,
   "metadata": {},
   "outputs": [
    {
     "name": "stdout",
     "output_type": "stream",
     "text": [
      "training accuracy:  0.999875\n",
      "\n",
      "              precision    recall  f1-score   support\n",
      "\n",
      "           0       1.00      1.00      1.00       999\n",
      "           1       0.00      0.00      0.00         1\n",
      "\n",
      "    accuracy                           1.00      1000\n",
      "   macro avg       0.50      0.50      0.50      1000\n",
      "weighted avg       1.00      1.00      1.00      1000\n",
      "\n"
     ]
    }
   ],
   "source": [
    "print(\"training accuracy: \", pipeline.score(X_train, y_train))\n",
    "print('')\n",
    "y_preds = pipeline.predict(X_val)\n",
    "print(classification_report(y_val, y_preds))"
   ]
  },
  {
   "cell_type": "code",
   "execution_count": 27,
   "metadata": {},
   "outputs": [
    {
     "name": "stdout",
     "output_type": "stream",
     "text": [
      "100%|██████████| 100/100 [00:45<00:00,  2.21trial/s, best loss: -1.0]\n"
     ]
    }
   ],
   "source": [
    "# Define the hyperparameter space\n",
    "space = {\n",
    "    'logisticregression__C': hp.loguniform('logisticregression__C', np.log(0.01), np.log(100)),  # Regularization parameter\n",
    "    'logisticregression__penalty': hp.choice('logisticregression__penalty', ['l1', 'l2']),  # Regularization type\n",
    "    'logisticregression__class_weight': hp.choice('logisticregression__class_weight', [None, 'balanced', {0: weight_majority_class, 1: weight_minority_class}])\n",
    "}\n",
    "\n",
    "def objective(params):\n",
    "    with mlflow.start_run():\n",
    "        mlflow.set_tag(\"model\", \"logistic_regression\")\n",
    "        mlflow.log_params(params)\n",
    "        \n",
    "        # Create the logistic regression model with the specified hyperparameters\n",
    "        log_reg = LogisticRegression(solver='liblinear', random_state=42)\n",
    "        \n",
    "        # Create the pipeline\n",
    "        pipeline = make_pipeline(preprocessor, log_reg)\n",
    "        \n",
    "        # Set the hyperparameters\n",
    "        pipeline.set_params(**params)\n",
    "        \n",
    "        # Fit the pipeline on the training data\n",
    "        pipeline.fit(X_train, y_train)\n",
    "        \n",
    "        # Make predictions on the validation set\n",
    "        y_pred = pipeline.predict(X_val)\n",
    "        \n",
    "        # Calculate F1 score\n",
    "        f1 = f1_score(y_val, y_pred)\n",
    "        \n",
    "        mlflow.log_metric(\"f1_score\", f1)\n",
    "        \n",
    "    return {'loss': -f1, 'status': STATUS_OK}\n",
    "\n",
    "# Create a Trials object to keep track of the results\n",
    "trials = Trials()\n",
    "\n",
    "# Find the best hyperparameters using Hyperopt\n",
    "best = fmin(fn=objective, space=space, algo=tpe.suggest, max_evals=100, trials=trials)"
   ]
  },
  {
   "cell_type": "code",
   "execution_count": 28,
   "metadata": {},
   "outputs": [
    {
     "data": {
      "image/png": "[encoded data removed]",
      "text/plain": [
       "<Figure size 640x480 with 1 Axes>"
      ]
     },
     "metadata": {},
     "output_type": "display_data"
    }
   ],
   "source": [
    "f, ax = plt.subplots(1)\n",
    "\n",
    "# Extract hyperparameters and corresponding trial IDs from the trials object\n",
    "xs = [t['tid'] for t in trials.trials]\n",
    "ys_C = [t['misc']['vals']['logisticregression__C'][0] for t in trials.trials]\n",
    "ys_penalty = [t['misc']['vals']['logisticregression__penalty'][0] for t in trials.trials]\n",
    "ys_class_weight = [t['misc']['vals']['logisticregression__class_weight'][0] for t in trials.trials]\n",
    "\n",
    "# Set x-axis limits to show 10 trials before and after the first and last trials, respectively\n",
    "ax.set_xlim(xs[0] - 10, xs[-1] + 10)\n",
    "\n",
    "# Create scatter plots for each hyperparameter\n",
    "ax.scatter(xs, ys_C, s=20, linewidth=0.01, alpha=0.75, label='C')\n",
    "ax.scatter(xs, ys_penalty, s=20, linewidth=0.01, alpha=0.75, label='penalty')\n",
    "ax.scatter(xs, ys_class_weight, s=20, linewidth=0.01, alpha=0.75, label='class_weight')\n",
    "\n",
    "# Set plot title and axis labels\n",
    "ax.set_title('Hyperparameter values vs. Trials', fontsize=18)\n",
    "ax.set_xlabel('Trial', fontsize=16)\n",
    "ax.set_ylabel('Hyperparameter Value', fontsize=16)\n",
    "\n",
    "# Show a legend for the different hyperparameters\n",
    "ax.legend()\n",
    "\n",
    "# Show the plot\n",
    "plt.show()\n"
   ]
  },
  {
   "cell_type": "markdown",
   "metadata": {},
   "source": [
    "Random Forest"
   ]
  },
  {
   "cell_type": "code",
   "execution_count": 85,
   "metadata": {},
   "outputs": [
    {
     "name": "stdout",
     "output_type": "stream",
     "text": [
      "100%|██████████| 100/100 [01:13<00:00,  1.36trial/s, best loss: -0.0]\n"
     ]
    }
   ],
   "source": [
    "# Define the hyperparameter space\n",
    "space = {\n",
    "    'randomforestclassifier__n_estimators': hp.choice('randomforestclassifier__n_estimators', [50, 100, 150]),\n",
    "    'randomforestclassifier__max_depth': hp.choice('randomforestclassifier__max_depth', [None, 10, 20]),\n",
    "    'randomforestclassifier__min_samples_split': hp.choice('randomforestclassifier__min_samples_split', [2, 5, 10]),\n",
    "    'randomforestclassifier__class_weight': hp.choice('randomforestclassifier__class_weight', [None, 'balanced', {0: weight_majority_class, 1: weight_minority_class}])\n",
    "}\n",
    "\n",
    "def objective(params):\n",
    "    with mlflow.start_run():\n",
    "        mlflow.set_tag(\"model\", \"random_forest\")\n",
    "        mlflow.log_params(params)\n",
    "        \n",
    "        # Create the random forest model with the specified hyperparameters\n",
    "        rf_clf = RandomForestClassifier(random_state=42)\n",
    "        \n",
    "        # Create the pipeline\n",
    "        pipeline = make_pipeline(preprocessor, rf_clf)\n",
    "        \n",
    "        # Set the hyperparameters\n",
    "        pipeline.set_params(**params)\n",
    "        \n",
    "        # Fit the pipeline on the training data\n",
    "        pipeline.fit(X_train, y_train)\n",
    "        \n",
    "        # Make predictions on the validation set\n",
    "        y_pred = pipeline.predict(X_val)\n",
    "        \n",
    "        # Calculate F1 score\n",
    "        f1 = f1_score(y_val, y_pred)\n",
    "        \n",
    "        mlflow.log_metric(\"f1_score\", f1)\n",
    "        \n",
    "    return {'loss': -f1, 'status': STATUS_OK}\n",
    "\n",
    "# Create a Trials object to keep track of the results\n",
    "trials = Trials()\n",
    "\n",
    "# Find the best hyperparameters using Hyperopt\n",
    "best = fmin(fn=objective, space=space, algo=tpe.suggest, max_evals=100, trials=trials)\n"
   ]
  },
  {
   "cell_type": "code",
   "execution_count": 87,
   "metadata": {},
   "outputs": [
    {
     "data": {
      "image/png": "[encoded data removed]",
      "text/plain": [
       "<Figure size 640x480 with 1 Axes>"
      ]
     },
     "metadata": {},
     "output_type": "display_data"
    }
   ],
   "source": [
    "# Set up the figure and axis\n",
    "f, ax = plt.subplots(1)\n",
    "\n",
    "# Extract hyperparameters and corresponding trial IDs from the trials object\n",
    "xs = [t['tid'] for t in trials.trials]\n",
    "ys_n_estimators = [t['misc']['vals']['randomforestclassifier__n_estimators'][0] for t in trials.trials]\n",
    "ys_max_depth = [t['misc']['vals']['randomforestclassifier__max_depth'][0] for t in trials.trials]\n",
    "ys_min_samples_split = [t['misc']['vals']['randomforestclassifier__min_samples_split'][0] for t in trials.trials]\n",
    "ys_class_weight = [t['misc']['vals']['randomforestclassifier__class_weight'][0] for t in trials.trials]\n",
    "\n",
    "# Set x-axis limits to show all trials\n",
    "ax.set_xlim(0, len(xs))\n",
    "\n",
    "# Create scatter plots for each hyperparameter\n",
    "ax.scatter(xs, ys_n_estimators, s=20, linewidth=0.01, alpha=0.75, label='n_estimators')\n",
    "ax.scatter(xs, ys_max_depth, s=20, linewidth=0.01, alpha=0.75, label='max_depth')\n",
    "ax.scatter(xs, ys_min_samples_split, s=20, linewidth=0.01, alpha=0.75, label='min_samples_split')\n",
    "ax.scatter(xs, ys_class_weight, s=20, linewidth=0.01, alpha=0.75, label='class_weight')\n",
    "\n",
    "# Set plot title and axis labels\n",
    "ax.set_title('Hyperparameter values vs. Trials', fontsize=18)\n",
    "ax.set_xlabel('Trial', fontsize=16)\n",
    "ax.set_ylabel('Hyperparameter Value', fontsize=16)\n",
    "\n",
    "# Show a legend for the different hyperparameters\n",
    "ax.legend(loc='center left', bbox_to_anchor=(1, 0.5))\n",
    "# Show the plot\n",
    "plt.show()\n"
   ]
  },
  {
   "cell_type": "markdown",
   "metadata": {},
   "source": [
    "XGBoost"
   ]
  },
  {
   "cell_type": "code",
   "execution_count": 21,
   "metadata": {},
   "outputs": [
    {
     "name": "stdout",
     "output_type": "stream",
     "text": [
      "100%|██████████| 100/100 [02:09<00:00,  1.29s/trial, best loss: -0.0]\n"
     ]
    }
   ],
   "source": [
    "# Define the hyperparameter space with the correct prefix\n",
    "space = {\n",
    "    \"xgbclassifier__max_depth\": hp.choice('xgbclassifier__max_depth', [6, 10, 15]),\n",
    "    \"xgbclassifier__learning_rate\": hp.loguniform('xgbclassifier__learning_rate', -3, 0),\n",
    "    \"xgbclassifier__reg_alpha\": hp.loguniform('xgbclassifier__reg_alpha', -5, -1),\n",
    "    \"xgbclassifier__reg_lambda\": hp.loguniform('xgbclassifier__reg_lambda', -6, -1),\n",
    "    \"xgbclassifier__min_child_weight\": hp.loguniform('xgbclassifier__min_child_weight', -1, 3),\n",
    "    'xgbclassifier__scale_pos_weight': hp.loguniform('xgbclassifier__scale_pos_weight', 0, np.log(scale_pos_weight)),\n",
    "    'xgbclassifier__max_delta_step': 1,\n",
    "    \"xgbclassifier__objective\": 'binary:logistic',\n",
    "    \"xgbclassifier__random_state\": 42\n",
    "}\n",
    "\n",
    "# Define the objective function for hyperparameter optimization\n",
    "def objective(params):\n",
    "    with mlflow.start_run():\n",
    "        mlflow.set_tag(\"model\", \"xgboost\")\n",
    "        mlflow.log_params(params)\n",
    "        \n",
    "        # Create the pipeline\n",
    "        pipeline = make_pipeline(\n",
    "            preprocessor,\n",
    "            xgb.XGBClassifier()\n",
    "        )\n",
    "        \n",
    "          # Set the hyperparameters\n",
    "        pipeline.set_params(**params)\n",
    "\n",
    "        # Fit the pipeline on the training data\n",
    "        pipeline.fit(X_train, y_train)\n",
    "        \n",
    "        # Make predictions on the validation set\n",
    "        y_pred = pipeline.predict(X_val)\n",
    "        \n",
    "        # Calculate F1 score\n",
    "        f1 = f1_score(y_val, y_pred)\n",
    "        \n",
    "        mlflow.log_metric(\"f1_score\", f1)\n",
    "        \n",
    "    return {'loss': -f1, 'status': STATUS_OK}\n",
    "\n",
    "# Create a Trials object to keep track of the results\n",
    "trials = Trials()\n",
    "\n",
    "# Find the best hyperparameters using Hyperopt\n",
    "best = fmin(fn=objective, space=space, algo=tpe.suggest, max_evals=100, trials=trials)\n",
    "\n"
   ]
  },
  {
   "cell_type": "code",
   "execution_count": 22,
   "metadata": {},
   "outputs": [
    {
     "data": {
      "image/png": "[encoded data removed]",
      "text/plain": [
       "<Figure size 640x480 with 1 Axes>"
      ]
     },
     "metadata": {},
     "output_type": "display_data"
    }
   ],
   "source": [
    "# Set up the figure and axis\n",
    "f, ax = plt.subplots(1)\n",
    "\n",
    "# Extract hyperparameters and corresponding trial IDs from the trials object\n",
    "xs = [t['tid'] for t in trials.trials]\n",
    "\n",
    "ys_max_depth = [t['misc']['vals']['xgbclassifier__max_depth'][0] for t in trials.trials]\n",
    "ys_learning_rate = [t['misc']['vals']['xgbclassifier__learning_rate'][0] for t in trials.trials]\n",
    "ys_reg_alpha = [t['misc']['vals']['xgbclassifier__reg_alpha'][0] for t in trials.trials]\n",
    "ys_reg_lambda = [t['misc']['vals']['xgbclassifier__reg_lambda'][0] for t in trials.trials]\n",
    "ys_min_child_weight = [t['misc']['vals']['xgbclassifier__min_child_weight'][0] for t in trials.trials]\n",
    "ys_scale_pos_weight = [t['misc']['vals']['xgbclassifier__scale_pos_weight'][0] for t in trials.trials]\n",
    "\n",
    "# Set x-axis limits to show all trials\n",
    "ax.set_xlim(0, len(xs))\n",
    "\n",
    "# Create scatter plots for each hyperparameter\n",
    "ax.scatter(xs, ys_max_depth, s=20, linewidth=0.01, alpha=0.75, label='max_depth')\n",
    "ax.scatter(xs, ys_learning_rate, s=20, linewidth=0.01, alpha=0.75, label='learning_rate')\n",
    "ax.scatter(xs, ys_reg_alpha, s=20, linewidth=0.01, alpha=0.75, label='reg_alpha')\n",
    "ax.scatter(xs, ys_reg_lambda, s=20, linewidth=0.01, alpha=0.75, label='reg_lambda')\n",
    "ax.scatter(xs, ys_min_child_weight, s=20, linewidth=0.01, alpha=0.75, label='min_child_weight')\n",
    "ax.scatter(xs, ys_scale_pos_weight, s=20, linewidth=0.01, alpha=0.75, label='scale_pos_weight')\n",
    "\n",
    "# Set plot title and axis labels\n",
    "ax.set_title('Hyperparameter values vs. Trials', fontsize=18)\n",
    "ax.set_xlabel('Trial', fontsize=16)\n",
    "ax.set_ylabel('Hyperparameter Value', fontsize=16)\n",
    "\n",
    "# Show a legend for the different hyperparameters\n",
    "ax.legend(loc='center left', bbox_to_anchor=(1, 0.5))\n",
    "\n",
    "# Show the plot\n",
    "plt.show()\n"
   ]
  },
  {
   "cell_type": "markdown",
   "metadata": {},
   "source": [
    "```\n",
    "Using the best model logistic regression results:\n",
    "Run ID: 33a1ead7502e43c28814a91a8fc79cf9\n",
    "Start Time: 2023-08-07 12:10:27\n",
    "End Time: 2023-08-07 12:10:27.312\n",
    "Duration: 0.312 ms\n",
    "Parameters:\n",
    "logisticregression__C: 0.31303873900972606\n",
    "logisticregression__class_weight: {0: 0.5003502451716202, 1: 714.2857142857143}\n",
    "logisticregression__penalty: l1\n",
    "Metrics:\n",
    "f1_score: 1.0```\n",
    "\n",
    "\n"
   ]
  },
  {
   "cell_type": "code",
   "execution_count": 14,
   "metadata": {},
   "outputs": [],
   "source": [
    "params = {\n",
    "    'C': 0.31303873900972606,\n",
    "    'class_weight': {0: 0.5003502451716202, 1: 714.2857142857143},\n",
    "    'penalty': 'l1',\n",
    "    'solver': 'liblinear',\n",
    "    'random_state': 42\n",
    "    }\n",
    "\n",
    "mlflow.log_params(params)\n",
    "\n",
    "# Set the hyperparameters for the logistic regression model\n",
    "log_reg = LogisticRegression(**params)\n",
    "\n",
    "# Create the pipeline with the specified hyperparameters\n",
    "pipeline = make_pipeline(preprocessor, log_reg)\n",
    "\n",
    "# Fit the pipeline on the training data\n",
    "pipeline.fit(X_train, y_train)\n",
    "\n",
    "probabilities = pipeline.predict_proba(X_val)[:, 1]\n",
    "thresholds = np.linspace(0, 1, 100)\n",
    "\n",
    "scores = []\n",
    "\n",
    "for threshold in thresholds:\n",
    "    predictions = [1 if prob > threshold else 0 for prob in probabilities]\n",
    "    score = f1_score(y_val, predictions)\n",
    "    scores.append(score)\n"
   ]
  },
  {
   "cell_type": "code",
   "execution_count": 15,
   "metadata": {},
   "outputs": [
    {
     "name": "stdout",
     "output_type": "stream",
     "text": [
      "0.05050505050505051\n"
     ]
    }
   ],
   "source": [
    "best_threshold = thresholds[np.argmax(scores)]\n",
    "print(best_threshold)"
   ]
  },
  {
   "cell_type": "code",
   "execution_count": 13,
   "metadata": {},
   "outputs": [
    {
     "data": {
      "image/png": "[encoded data removed]",
      "text/plain": [
       "<Figure size 640x480 with 1 Axes>"
      ]
     },
     "metadata": {},
     "output_type": "display_data"
    }
   ],
   "source": [
    "plt.plot(thresholds, scores)\n",
    "plt.xlabel('Threshold')\n",
    "plt.ylabel('F1 Score')\n",
    "plt.title('F1 Score vs. Threshold')\n",
    "plt.show()"
   ]
  },
  {
   "cell_type": "code",
   "execution_count": 21,
   "metadata": {},
   "outputs": [
    {
     "name": "stdout",
     "output_type": "stream",
     "text": [
      "{'C': 0.31303873900972606, 'class_weight': {0: 0.5003502451716202, 1: 714.2857142857143}, 'penalty': 'l1', 'solver': 'liblinear', 'random_state': 42} 0.19999999999999998\n"
     ]
    }
   ],
   "source": [
    "with mlflow.start_run():\n",
    "\n",
    "    params = {\n",
    "    'C': 0.31303873900972606,\n",
    "    'class_weight': {0: 0.5003502451716202, 1: 714.2857142857143},\n",
    "    'penalty': 'l1',\n",
    "    'solver': 'liblinear',\n",
    "    'random_state': 42\n",
    "    }\n",
    "\n",
    "    mlflow.log_params(params)\n",
    "\n",
    "    # Set the hyperparameters for the logistic regression model\n",
    "    log_reg = LogisticRegression(**params)\n",
    "\n",
    "    # Create the pipeline with the specified hyperparameters\n",
    "    pipeline = make_pipeline(preprocessor, log_reg)\n",
    "\n",
    "    # Fit the pipeline on the training data\n",
    "    pipeline.fit(X_train, y_train)\n",
    "\n",
    "    # Use the pipeline to make predictions using the best threshold on the test set\n",
    "    y_preds = pipeline.predict_proba(X_test)[:, 1]\n",
    "\n",
    "    # Applying the threshold\n",
    "    y_preds_threshold = [1 if prob > best_threshold else 0 for prob in y_preds]\n",
    "\n",
    "    # Calculate any metrics you want to log\n",
    "    f1 = f1_score(y_test, y_preds_threshold)\n",
    "\n",
    "    # Calculating Precision\n",
    "    precision = precision_score(y_test, y_preds_threshold) \n",
    "\n",
    "    # Calculating Recall\n",
    "    recall = recall_score(y_test, y_preds_threshold)\n",
    "\n",
    "    print(params, f1)\n",
    "\n",
    "    mlflow.log_metric(\"f1-score\", f1)\n",
    "    mlflow.log_metric(\"precision\", precision)\n",
    "    mlflow.log_metric(\"recall\", recall)\n",
    "    \n",
    "    mlflow.sklearn.log_model(pipeline, artifact_path=\"model\")"
   ]
  },
  {
   "cell_type": "code",
   "execution_count": 22,
   "metadata": {},
   "outputs": [
    {
     "name": "stdout",
     "output_type": "stream",
     "text": [
      "run_id                                                               391dcd98e0554a62b3214dacf0ed83e0\n",
      "experiment_id                                                                                       3\n",
      "status                                                                                       FINISHED\n",
      "artifact_uri                                        s3://mlflow-artifacts-remote-bp/3/391dcd98e055...\n",
      "start_time                                                           2023-08-09 19:07:27.971000+00:00\n",
      "end_time                                                             2023-08-09 19:07:32.802000+00:00\n",
      "metrics.f1-score                                                                                  0.2\n",
      "metrics.recall                                                                                    1.0\n",
      "metrics.precision                                                                            0.111111\n",
      "metrics.f1_score                                                                                  NaN\n",
      "params.random_state                                                                                42\n",
      "params.solver                                                                               liblinear\n",
      "params.C                                                                          0.31303873900972606\n",
      "params.class_weight                                     {0: 0.5003502451716202, 1: 714.2857142857143}\n",
      "params.penalty                                                                                     l1\n",
      "params.xgbclassifier__reg_lambda                                                                 None\n",
      "params.xgbclassifier__learning_rate                                                              None\n",
      "params.xgbclassifier__max_depth                                                                  None\n",
      "params.xgbclassifier__random_state                                                               None\n",
      "params.xgbclassifier__objective                                                                  None\n",
      "params.xgbclassifier__scale_pos_weight                                                           None\n",
      "params.xgbclassifier__max_delta_step                                                             None\n",
      "params.xgbclassifier__min_child_weight                                                           None\n",
      "params.xgbclassifier__reg_alpha                                                                  None\n",
      "params.randomforestclassifier__class_weight                                                      None\n",
      "params.randomforestclassifier__n_estimators                                                      None\n",
      "params.randomforestclassifier__min_samples_split                                                 None\n",
      "params.randomforestclassifier__max_depth                                                         None\n",
      "params.logisticregression__penalty                                                               None\n",
      "params.logisticregression__class_weight                                                          None\n",
      "params.logisticregression__C                                                                     None\n",
      "tags.mlflow.user                                                                               ubuntu\n",
      "tags.mlflow.source.type                                                                         LOCAL\n",
      "tags.mlflow.source.name                             /home/ubuntu/anaconda3/envs/loan-data-predicti...\n",
      "tags.mlflow.log-model.history                       [{\"run_id\": \"391dcd98e0554a62b3214dacf0ed83e0\"...\n",
      "tags.mlflow.runName                                                                    bold-trout-625\n",
      "tags.model                                                                                       None\n",
      "Name: 0, dtype: object\n",
      "Latest Run ID: 391dcd98e0554a62b3214dacf0ed83e0\n"
     ]
    }
   ],
   "source": [
    "experiment_id = '3'\n",
    "\n",
    "# Retrieve a list of all runs\n",
    "runs = mlflow.search_runs()\n",
    "\n",
    "# Sort runs by start time and get the most recent run\n",
    "latest_run = runs.sort_values(by=\"start_time\", ascending=False).iloc[0]\n",
    "\n",
    "# Print the details of the latest run\n",
    "print(latest_run)\n",
    "\n",
    "# If you only want the run_id of the latest run\n",
    "latest_run_id = latest_run[\"run_id\"]\n",
    "print(f\"Latest Run ID: {latest_run_id}\")\n"
   ]
  },
  {
   "cell_type": "code",
   "execution_count": 23,
   "metadata": {},
   "outputs": [
    {
     "name": "stderr",
     "output_type": "stream",
     "text": [
      "Successfully registered model 'loan-prediction'.\n",
      "2023/08/09 19:22:49 INFO mlflow.tracking._model_registry.client: Waiting up to 300 seconds for model version to finish creation. Model name: loan-prediction, version 1\n"
     ]
    },
    {
     "name": "stdout",
     "output_type": "stream",
     "text": [
      "<ModelVersion: aliases=[], creation_timestamp=1691608969439, current_stage='None', description='', last_updated_timestamp=1691608969439, name='loan-prediction', run_id='391dcd98e0554a62b3214dacf0ed83e0', run_link='', source='s3://mlflow-artifacts-remote-bp/3/391dcd98e0554a62b3214dacf0ed83e0/artifacts/model', status='READY', status_message='', tags={}, user_id='', version='1'>\n"
     ]
    },
    {
     "name": "stderr",
     "output_type": "stream",
     "text": [
      "Created version '1' of model 'loan-prediction'.\n"
     ]
    }
   ],
   "source": [
    "run_id = '391dcd98e0554a62b3214dacf0ed83e0'\n",
    "model_uri = f\"runs:/{run_id}/model\"\n",
    "\n",
    "model_details = mlflow.register_model(model_uri, \"loan-prediction\")\n",
    "\n",
    "print(model_details)"
   ]
  },
  {
   "cell_type": "code",
   "execution_count": 24,
   "metadata": {},
   "outputs": [
    {
     "name": "stdout",
     "output_type": "stream",
     "text": [
      "<ModelVersion: aliases=[], creation_timestamp=1691608969439, current_stage='Staging', description='', last_updated_timestamp=1691608973404, name='loan-prediction', run_id='391dcd98e0554a62b3214dacf0ed83e0', run_link='', source='s3://mlflow-artifacts-remote-bp/3/391dcd98e0554a62b3214dacf0ed83e0/artifacts/model', status='READY', status_message='', tags={}, user_id='', version='1'>\n"
     ]
    }
   ],
   "source": [
    "client = mlflow.tracking.MlflowClient()\n",
    "\n",
    "# Transition model version to 'Staging' stage\n",
    "model_version_details = client.transition_model_version_stage(\n",
    "    name=\"loan-prediction\",\n",
    "    version=model_details.version,\n",
    "    stage=\"Staging\",\n",
    ")\n",
    "print(model_version_details)\n"
   ]
  },
  {
   "cell_type": "code",
   "execution_count": null,
   "metadata": {},
   "outputs": [],
   "source": []
  }
 ],
 "metadata": {
  "kernelspec": {
   "display_name": "loan-data-prediction",
   "language": "python",
   "name": "python3"
  },
  "language_info": {
   "codemirror_mode": {
    "name": "ipython",
    "version": 3
   },
   "file_extension": ".py",
   "mimetype": "text/x-python",
   "name": "python",
   "nbconvert_exporter": "python",
   "pygments_lexer": "ipython3",
   "version": "3.9.17"
  },
  "orig_nbformat": 4
 },
 "nbformat": 4,
 "nbformat_minor": 2
}
